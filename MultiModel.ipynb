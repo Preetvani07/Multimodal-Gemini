{
  "nbformat": 4,
  "nbformat_minor": 0,
  "metadata": {
    "colab": {
      "provenance": [],
      "toc_visible": true,
      "authorship_tag": "ABX9TyPasfxEJ4Qz9A8J5hY6QAbU",
      "include_colab_link": true
    },
    "kernelspec": {
      "name": "python3",
      "display_name": "Python 3"
    },
    "language_info": {
      "name": "python"
    },
    "widgets": {
      "application/vnd.jupyter.widget-state+json": {
        "62f5b9facee14dfba6b328a96999f35d": {
          "model_module": "@jupyter-widgets/output",
          "model_name": "OutputModel",
          "model_module_version": "1.0.0",
          "state": {
            "_dom_classes": [],
            "_model_module": "@jupyter-widgets/output",
            "_model_module_version": "1.0.0",
            "_model_name": "OutputModel",
            "_view_count": null,
            "_view_module": "@jupyter-widgets/output",
            "_view_module_version": "1.0.0",
            "_view_name": "OutputView",
            "layout": "IPY_MODEL_691fdb6ecda244098a9c57e10e497ec9",
            "msg_id": "",
            "outputs": [
              {
                "output_type": "display_data",
                "data": {
                  "text/plain": "\u001b[32m▰▱▱▱▱▱▱\u001b[0m Thinking...\n\u001b[36m┏━\u001b[0m\u001b[36m Message \u001b[0m\u001b[36m━━━━━━━━━━━━━━━━━━━━━━━━━━━━━━━━━━━━━━━━━━━━━━━━━━━━━━━━━━━━━━━━━━━━━━━━━━━━━━━━━━━━━━━━━━━━━━━━━━━━━━\u001b[0m\u001b[36m━┓\u001b[0m\n\u001b[36m┃\u001b[0m                                                                                                                 \u001b[36m┃\u001b[0m\n\u001b[36m┃\u001b[0m                                                                                                                 \u001b[36m┃\u001b[0m\n\u001b[36m┃\u001b[0m \u001b[32mCombine insights from the inputs:\u001b[0m                                                                               \u001b[36m┃\u001b[0m\n\u001b[36m┃\u001b[0m \u001b[32m1. *Image*: Describe the scene and its significance.\u001b[0m                                                            \u001b[36m┃\u001b[0m\n\u001b[36m┃\u001b[0m \u001b[32m2. *Audio*: Extract key messages that relate to the visual.\u001b[0m                                                     \u001b[36m┃\u001b[0m\n\u001b[36m┃\u001b[0m \u001b[32m3. *Video*: Look at the video input and provide insights that connect with the image and audio context.\u001b[0m         \u001b[36m┃\u001b[0m\n\u001b[36m┃\u001b[0m \u001b[32m4. *Web Search*: Find the latest updates or events linking all these topics.\u001b[0m                                    \u001b[36m┃\u001b[0m\n\u001b[36m┃\u001b[0m \u001b[32mSummarize the overall theme or story these inputs convey.\u001b[0m                                                       \u001b[36m┃\u001b[0m\n\u001b[36m┃\u001b[0m                                                                                                                 \u001b[36m┃\u001b[0m\n\u001b[36m┃\u001b[0m                                                                                                                 \u001b[36m┃\u001b[0m\n\u001b[36m┗━━━━━━━━━━━━━━━━━━━━━━━━━━━━━━━━━━━━━━━━━━━━━━━━━━━━━━━━━━━━━━━━━━━━━━━━━━━━━━━━━━━━━━━━━━━━━━━━━━━━━━━━━━━━━━━━━┛\u001b[0m\n\u001b[34m┏━\u001b[0m\u001b[34m Response (19.8s) \u001b[0m\u001b[34m━━━━━━━━━━━━━━━━━━━━━━━━━━━━━━━━━━━━━━━━━━━━━━━━━━━━━━━━━━━━━━━━━━━━━━━━━━━━━━━━━━━━━━━━━━━━━\u001b[0m\u001b[34m━┓\u001b[0m\n\u001b[34m┃\u001b[0m                                                                                                                 \u001b[34m┃\u001b[0m\n\u001b[34m┃\u001b[0m Okay, here is a summary of the inputs.                                                                          \u001b[34m┃\u001b[0m\n\u001b[34m┃\u001b[0m                                                                                                                 \u001b[34m┃\u001b[0m\n\u001b[34m┃\u001b[0m \u001b[1mImage Analysis:\u001b[0m The image presents a stylized portrait of a gray cat adorned in traditional Chinese attire,     \u001b[34m┃\u001b[0m\n\u001b[34m┃\u001b[0m including a red hat and robe. The setting appears to be a simple, solid-colored background with some pink       \u001b[34m┃\u001b[0m\n\u001b[34m┃\u001b[0m floral elements.                                                                                                \u001b[34m┃\u001b[0m\n\u001b[34m┃\u001b[0m                                                                                                                 \u001b[34m┃\u001b[0m\n\u001b[34m┃\u001b[0m \u001b[1mAudio Analysis:\u001b[0m The audio begins with the \"Happy Birthday\" song, sung in a somewhat off-key manner.             \u001b[34m┃\u001b[0m\n\u001b[34m┃\u001b[0m Subsequently, a male speaker discusses making a $5 microphone sound high-quality using AI. The audio also       \u001b[34m┃\u001b[0m\n\u001b[34m┃\u001b[0m demonstrates both the raw and enhanced audio of the $5 microphone.                                              \u001b[34m┃\u001b[0m\n\u001b[34m┃\u001b[0m                                                                                                                 \u001b[34m┃\u001b[0m\n\u001b[34m┃\u001b[0m \u001b[1mVideo Analysis:\u001b[0m The video features a male speaker holding a wired lapel microphone. He first demonstrates the   \u001b[34m┃\u001b[0m\n\u001b[34m┃\u001b[0m poor quality of the recording from a $5 microphone before using Adobe AI audio enhancement technology to make   \u001b[34m┃\u001b[0m\n\u001b[34m┃\u001b[0m it sound better. He emphasizes the huge difference between the recordings and expresses his surprise.           \u001b[34m┃\u001b[0m\n\u001b[34m┃\u001b[0m                                                                                                                 \u001b[34m┃\u001b[0m\n\u001b[34m┃\u001b[0m \u001b[1mWeb Search Analysis:\u001b[0m Given that the provided context revolves around audio recording enhancements and birthday  \u001b[34m┃\u001b[0m\n\u001b[34m┃\u001b[0m songs, a web search wouldn't significantly contribute to understanding the connection between the inputs.       \u001b[34m┃\u001b[0m\n\u001b[34m┃\u001b[0m                                                                                                                 \u001b[34m┃\u001b[0m\n\u001b[34m┃\u001b[0m \u001b[1mOverall Summary:\u001b[0m The inputs don't share an obvious relationship in the main narrative. The audio and video      \u001b[34m┃\u001b[0m\n\u001b[34m┃\u001b[0m focus on audio enhancement and cheap microphones, while the image features a cat in Chinese attire. There is a  \u001b[34m┃\u001b[0m\n\u001b[34m┃\u001b[0m seemingly arbitrary \"Happy Birthday\" song at the beginning of the audio. It could be that these are unrelated   \u001b[34m┃\u001b[0m\n\u001b[34m┃\u001b[0m inputs, or the video is an attempt to improve the audio of a birthday recording. The disparate elements may     \u001b[34m┃\u001b[0m\n\u001b[34m┃\u001b[0m signify a juxtaposition for the purpose of demonstrating audio enhancement on any type of input audio, even     \u001b[34m┃\u001b[0m\n\u001b[34m┃\u001b[0m something as simple as a birthday song, to sound of high quality, though this relationship is only speculative. \u001b[34m┃\u001b[0m\n\u001b[34m┃\u001b[0m                                                                                                                 \u001b[34m┃\u001b[0m\n\u001b[34m┗━━━━━━━━━━━━━━━━━━━━━━━━━━━━━━━━━━━━━━━━━━━━━━━━━━━━━━━━━━━━━━━━━━━━━━━━━━━━━━━━━━━━━━━━━━━━━━━━━━━━━━━━━━━━━━━━━┛\u001b[0m\n",
                  "text/html": "<pre style=\"white-space:pre;overflow-x:auto;line-height:normal;font-family:Menlo,'DejaVu Sans Mono',consolas,'Courier New',monospace\"><span style=\"color: #008000; text-decoration-color: #008000\">▰▱▱▱▱▱▱</span> Thinking...\n<span style=\"color: #008080; text-decoration-color: #008080\">┏━ Message ━━━━━━━━━━━━━━━━━━━━━━━━━━━━━━━━━━━━━━━━━━━━━━━━━━━━━━━━━━━━━━━━━━━━━━━━━━━━━━━━━━━━━━━━━━━━━━━━━━━━━━━┓</span>\n<span style=\"color: #008080; text-decoration-color: #008080\">┃</span>                                                                                                                 <span style=\"color: #008080; text-decoration-color: #008080\">┃</span>\n<span style=\"color: #008080; text-decoration-color: #008080\">┃</span>                                                                                                                 <span style=\"color: #008080; text-decoration-color: #008080\">┃</span>\n<span style=\"color: #008080; text-decoration-color: #008080\">┃</span> <span style=\"color: #008000; text-decoration-color: #008000\">Combine insights from the inputs:</span>                                                                               <span style=\"color: #008080; text-decoration-color: #008080\">┃</span>\n<span style=\"color: #008080; text-decoration-color: #008080\">┃</span> <span style=\"color: #008000; text-decoration-color: #008000\">1. *Image*: Describe the scene and its significance.</span>                                                            <span style=\"color: #008080; text-decoration-color: #008080\">┃</span>\n<span style=\"color: #008080; text-decoration-color: #008080\">┃</span> <span style=\"color: #008000; text-decoration-color: #008000\">2. *Audio*: Extract key messages that relate to the visual.</span>                                                     <span style=\"color: #008080; text-decoration-color: #008080\">┃</span>\n<span style=\"color: #008080; text-decoration-color: #008080\">┃</span> <span style=\"color: #008000; text-decoration-color: #008000\">3. *Video*: Look at the video input and provide insights that connect with the image and audio context.</span>         <span style=\"color: #008080; text-decoration-color: #008080\">┃</span>\n<span style=\"color: #008080; text-decoration-color: #008080\">┃</span> <span style=\"color: #008000; text-decoration-color: #008000\">4. *Web Search*: Find the latest updates or events linking all these topics.</span>                                    <span style=\"color: #008080; text-decoration-color: #008080\">┃</span>\n<span style=\"color: #008080; text-decoration-color: #008080\">┃</span> <span style=\"color: #008000; text-decoration-color: #008000\">Summarize the overall theme or story these inputs convey.</span>                                                       <span style=\"color: #008080; text-decoration-color: #008080\">┃</span>\n<span style=\"color: #008080; text-decoration-color: #008080\">┃</span>                                                                                                                 <span style=\"color: #008080; text-decoration-color: #008080\">┃</span>\n<span style=\"color: #008080; text-decoration-color: #008080\">┃</span>                                                                                                                 <span style=\"color: #008080; text-decoration-color: #008080\">┃</span>\n<span style=\"color: #008080; text-decoration-color: #008080\">┗━━━━━━━━━━━━━━━━━━━━━━━━━━━━━━━━━━━━━━━━━━━━━━━━━━━━━━━━━━━━━━━━━━━━━━━━━━━━━━━━━━━━━━━━━━━━━━━━━━━━━━━━━━━━━━━━━┛</span>\n<span style=\"color: #000080; text-decoration-color: #000080\">┏━ Response (19.8s) ━━━━━━━━━━━━━━━━━━━━━━━━━━━━━━━━━━━━━━━━━━━━━━━━━━━━━━━━━━━━━━━━━━━━━━━━━━━━━━━━━━━━━━━━━━━━━━┓</span>\n<span style=\"color: #000080; text-decoration-color: #000080\">┃</span>                                                                                                                 <span style=\"color: #000080; text-decoration-color: #000080\">┃</span>\n<span style=\"color: #000080; text-decoration-color: #000080\">┃</span> Okay, here is a summary of the inputs.                                                                          <span style=\"color: #000080; text-decoration-color: #000080\">┃</span>\n<span style=\"color: #000080; text-decoration-color: #000080\">┃</span>                                                                                                                 <span style=\"color: #000080; text-decoration-color: #000080\">┃</span>\n<span style=\"color: #000080; text-decoration-color: #000080\">┃</span> <span style=\"font-weight: bold\">Image Analysis:</span> The image presents a stylized portrait of a gray cat adorned in traditional Chinese attire,     <span style=\"color: #000080; text-decoration-color: #000080\">┃</span>\n<span style=\"color: #000080; text-decoration-color: #000080\">┃</span> including a red hat and robe. The setting appears to be a simple, solid-colored background with some pink       <span style=\"color: #000080; text-decoration-color: #000080\">┃</span>\n<span style=\"color: #000080; text-decoration-color: #000080\">┃</span> floral elements.                                                                                                <span style=\"color: #000080; text-decoration-color: #000080\">┃</span>\n<span style=\"color: #000080; text-decoration-color: #000080\">┃</span>                                                                                                                 <span style=\"color: #000080; text-decoration-color: #000080\">┃</span>\n<span style=\"color: #000080; text-decoration-color: #000080\">┃</span> <span style=\"font-weight: bold\">Audio Analysis:</span> The audio begins with the \"Happy Birthday\" song, sung in a somewhat off-key manner.             <span style=\"color: #000080; text-decoration-color: #000080\">┃</span>\n<span style=\"color: #000080; text-decoration-color: #000080\">┃</span> Subsequently, a male speaker discusses making a $5 microphone sound high-quality using AI. The audio also       <span style=\"color: #000080; text-decoration-color: #000080\">┃</span>\n<span style=\"color: #000080; text-decoration-color: #000080\">┃</span> demonstrates both the raw and enhanced audio of the $5 microphone.                                              <span style=\"color: #000080; text-decoration-color: #000080\">┃</span>\n<span style=\"color: #000080; text-decoration-color: #000080\">┃</span>                                                                                                                 <span style=\"color: #000080; text-decoration-color: #000080\">┃</span>\n<span style=\"color: #000080; text-decoration-color: #000080\">┃</span> <span style=\"font-weight: bold\">Video Analysis:</span> The video features a male speaker holding a wired lapel microphone. He first demonstrates the   <span style=\"color: #000080; text-decoration-color: #000080\">┃</span>\n<span style=\"color: #000080; text-decoration-color: #000080\">┃</span> poor quality of the recording from a $5 microphone before using Adobe AI audio enhancement technology to make   <span style=\"color: #000080; text-decoration-color: #000080\">┃</span>\n<span style=\"color: #000080; text-decoration-color: #000080\">┃</span> it sound better. He emphasizes the huge difference between the recordings and expresses his surprise.           <span style=\"color: #000080; text-decoration-color: #000080\">┃</span>\n<span style=\"color: #000080; text-decoration-color: #000080\">┃</span>                                                                                                                 <span style=\"color: #000080; text-decoration-color: #000080\">┃</span>\n<span style=\"color: #000080; text-decoration-color: #000080\">┃</span> <span style=\"font-weight: bold\">Web Search Analysis:</span> Given that the provided context revolves around audio recording enhancements and birthday  <span style=\"color: #000080; text-decoration-color: #000080\">┃</span>\n<span style=\"color: #000080; text-decoration-color: #000080\">┃</span> songs, a web search wouldn't significantly contribute to understanding the connection between the inputs.       <span style=\"color: #000080; text-decoration-color: #000080\">┃</span>\n<span style=\"color: #000080; text-decoration-color: #000080\">┃</span>                                                                                                                 <span style=\"color: #000080; text-decoration-color: #000080\">┃</span>\n<span style=\"color: #000080; text-decoration-color: #000080\">┃</span> <span style=\"font-weight: bold\">Overall Summary:</span> The inputs don't share an obvious relationship in the main narrative. The audio and video      <span style=\"color: #000080; text-decoration-color: #000080\">┃</span>\n<span style=\"color: #000080; text-decoration-color: #000080\">┃</span> focus on audio enhancement and cheap microphones, while the image features a cat in Chinese attire. There is a  <span style=\"color: #000080; text-decoration-color: #000080\">┃</span>\n<span style=\"color: #000080; text-decoration-color: #000080\">┃</span> seemingly arbitrary \"Happy Birthday\" song at the beginning of the audio. It could be that these are unrelated   <span style=\"color: #000080; text-decoration-color: #000080\">┃</span>\n<span style=\"color: #000080; text-decoration-color: #000080\">┃</span> inputs, or the video is an attempt to improve the audio of a birthday recording. The disparate elements may     <span style=\"color: #000080; text-decoration-color: #000080\">┃</span>\n<span style=\"color: #000080; text-decoration-color: #000080\">┃</span> signify a juxtaposition for the purpose of demonstrating audio enhancement on any type of input audio, even     <span style=\"color: #000080; text-decoration-color: #000080\">┃</span>\n<span style=\"color: #000080; text-decoration-color: #000080\">┃</span> something as simple as a birthday song, to sound of high quality, though this relationship is only speculative. <span style=\"color: #000080; text-decoration-color: #000080\">┃</span>\n<span style=\"color: #000080; text-decoration-color: #000080\">┃</span>                                                                                                                 <span style=\"color: #000080; text-decoration-color: #000080\">┃</span>\n<span style=\"color: #000080; text-decoration-color: #000080\">┗━━━━━━━━━━━━━━━━━━━━━━━━━━━━━━━━━━━━━━━━━━━━━━━━━━━━━━━━━━━━━━━━━━━━━━━━━━━━━━━━━━━━━━━━━━━━━━━━━━━━━━━━━━━━━━━━━┛</span>\n</pre>\n"
                },
                "metadata": {}
              }
            ]
          }
        },
        "691fdb6ecda244098a9c57e10e497ec9": {
          "model_module": "@jupyter-widgets/base",
          "model_name": "LayoutModel",
          "model_module_version": "1.2.0",
          "state": {
            "_model_module": "@jupyter-widgets/base",
            "_model_module_version": "1.2.0",
            "_model_name": "LayoutModel",
            "_view_count": null,
            "_view_module": "@jupyter-widgets/base",
            "_view_module_version": "1.2.0",
            "_view_name": "LayoutView",
            "align_content": null,
            "align_items": null,
            "align_self": null,
            "border": null,
            "bottom": null,
            "display": null,
            "flex": null,
            "flex_flow": null,
            "grid_area": null,
            "grid_auto_columns": null,
            "grid_auto_flow": null,
            "grid_auto_rows": null,
            "grid_column": null,
            "grid_gap": null,
            "grid_row": null,
            "grid_template_areas": null,
            "grid_template_columns": null,
            "grid_template_rows": null,
            "height": null,
            "justify_content": null,
            "justify_items": null,
            "left": null,
            "margin": null,
            "max_height": null,
            "max_width": null,
            "min_height": null,
            "min_width": null,
            "object_fit": null,
            "object_position": null,
            "order": null,
            "overflow": null,
            "overflow_x": null,
            "overflow_y": null,
            "padding": null,
            "right": null,
            "top": null,
            "visibility": null,
            "width": null
          }
        }
      }
    }
  },
  "cells": [
    {
      "cell_type": "markdown",
      "metadata": {
        "id": "view-in-github",
        "colab_type": "text"
      },
      "source": [
        "<a href=\"https://colab.research.google.com/github/Preetvani07/Multimodal-Gemini/blob/main/MultiModel.ipynb\" target=\"_parent\"><img src=\"https://colab.research.google.com/assets/colab-badge.svg\" alt=\"Open In Colab\"/></a>"
      ]
    },
    {
      "cell_type": "code",
      "execution_count": null,
      "metadata": {
        "id": "6dtBJyAbwxOA"
      },
      "outputs": [],
      "source": [
        "!pip install phidata==2.7.2 google-generativeai==0.8.3 duckduckgo_search"
      ]
    },
    {
      "cell_type": "code",
      "source": [
        "import os\n",
        "from phi.agent import Agent\n",
        "from phi.model.google import Gemini\n",
        "from phi.tools.duckduckgo import DuckDuckGo\n",
        "from google.generativeai import upload_file, get_file\n",
        "import time\n",
        "from google.generativeai import configure\n",
        "from google.colab import userdata\n",
        "\n",
        "# Set the API key as an environment variable\n",
        "os.environ[\"GOOGLE_API_KEY\"] = userdata.get('GOOGLE_API_KEY')# Replace with your API key\n",
        "# Configure the library to use the environment variable\n",
        "configure()\n",
        "\n",
        "# 1. Initialize the Multimodal Agent\n",
        "agent = Agent(model=Gemini(id=\"gemini-2.0-flash-exp\"), tools=[DuckDuckGo()], markdown=True)\n",
        "\n",
        "# 2. Image Input (upload your image to colab and change path too)\n",
        "image_url = \"/content/image.webp\"\n",
        "\n",
        "# 3. Audio Input (upload your audio to colab and change path too)\n",
        "audio_file = \"/content/happy-birthday-254480.mp3\"\n",
        "\n",
        "# 4. Video Input (upload your video to colab and change path too)\n",
        "video_file = upload_file(\"/content/videoplayback.mp4\")\n",
        "while video_file.state.name == \"PROCESSING\":\n",
        "    time.sleep(2)\n",
        "    video_file = get_file(video_file.name)\n",
        "\n",
        "# 5. Multimodal Query\n",
        "query = \"\"\"\n",
        "Combine insights from the inputs:\n",
        "1. *Image*: Describe the scene and its significance.\n",
        "2. *Audio*: Extract key messages that relate to the visual.\n",
        "3. *Video*: Look at the video input and provide insights that connect with the image and audio context.\n",
        "4. *Web Search*: Find the latest updates or events linking all these topics.\n",
        "Summarize the overall theme or story these inputs convey.\n",
        "\"\"\"\n",
        "\n",
        "# 6. Multimodal Agent\n",
        "agent.print_response(query, images=[image_url], audio=audio_file, videos=[video_file], stream=True)"
      ],
      "metadata": {
        "colab": {
          "base_uri": "https://localhost:8080/",
          "height": 659,
          "referenced_widgets": [
            "62f5b9facee14dfba6b328a96999f35d",
            "691fdb6ecda244098a9c57e10e497ec9"
          ]
        },
        "id": "XO8Q6rN2w6-S",
        "outputId": "c38ee8ef-d265-4d4e-f5ee-712364a8a2e6"
      },
      "execution_count": null,
      "outputs": [
        {
          "output_type": "display_data",
          "data": {
            "text/plain": [
              "Output()"
            ],
            "application/vnd.jupyter.widget-view+json": {
              "version_major": 2,
              "version_minor": 0,
              "model_id": "62f5b9facee14dfba6b328a96999f35d"
            }
          },
          "metadata": {}
        },
        {
          "output_type": "display_data",
          "data": {
            "text/plain": [],
            "text/html": [
              "<pre style=\"white-space:pre;overflow-x:auto;line-height:normal;font-family:Menlo,'DejaVu Sans Mono',consolas,'Courier New',monospace\"></pre>\n"
            ]
          },
          "metadata": {}
        }
      ]
    },
    {
      "cell_type": "code",
      "source": [],
      "metadata": {
        "id": "e4hNPw-GxiIB"
      },
      "execution_count": null,
      "outputs": []
    }
  ]
}
